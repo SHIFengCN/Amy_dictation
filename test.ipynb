{
 "cells": [
  {
   "cell_type": "code",
   "execution_count": 10,
   "metadata": {},
   "outputs": [
    {
     "data": {
      "text/plain": [
       "'\\n功能：把文字转换成语音。\\n\\n参数 text 是待转换的文字，\\n\\n参数 filename 是生成的语音文件的名字，\\n\\n可选参数 speaker 是发音人，1 代表小刚（男声），2 代表小云（女声），默认为1，\\n\\n可选参数 speed 是语速，1 代表正常速度，0.5 代表慢速，2 代表快速，默认为1，\\n\\n可选参数 aht 是音高，默认为 0，\\n\\n可选参数 apc 是音色，默认为 58，\\n\\n可选参数 volume 是音量，默认为 100，\\n\\n可选参数 _format 是语音文件的格式，1 代表 PCM，2 代表 WAV，3代表 MP3，默认为 2 ，\\n\\n返回：生成的语音文件的名字。\\n'"
      ]
     },
     "execution_count": 10,
     "metadata": {},
     "output_type": "execute_result"
    }
   ],
   "source": [
    "import ybc_speech\n",
    "#text='你好，我是文字转语音文件'\n",
    "# 使用ssml语言\n",
    "text='<speak>你好，我是文字<break time=\\\"1500ms\\\"/>转语音文件</speak>'\n",
    "ybc_speech.text2voice(text, filename='test.mp3', speaker=1, speed=1, aht=0, apc=60, volume=100,\\\n",
    "               _format=3)\n",
    "\"\"\"\n",
    "功能：把文字转换成语音。\n",
    "\n",
    "参数 text 是待转换的文字，\n",
    "\n",
    "参数 filename 是生成的语音文件的名字，\n",
    "\n",
    "可选参数 speaker 是发音人，1 代表小刚（男声），2 代表小云（女声），默认为1，\n",
    "\n",
    "可选参数 speed 是语速，1 代表正常速度，0.5 代表慢速，2 代表快速，默认为1，\n",
    "\n",
    "可选参数 aht 是音高，默认为 0，\n",
    "\n",
    "可选参数 apc 是音色，默认为 58，\n",
    "\n",
    "可选参数 volume 是音量，默认为 100，\n",
    "\n",
    "可选参数 _format 是语音文件的格式，1 代表 PCM，2 代表 WAV，3代表 MP3，默认为 2 ，\n",
    "\n",
    "返回：生成的语音文件的名字。\n",
    "\"\"\""
   ]
  },
  {
   "cell_type": "code",
   "execution_count": null,
   "metadata": {},
   "outputs": [],
   "source": []
  }
 ],
 "metadata": {
  "kernelspec": {
   "display_name": "Python 3",
   "language": "python",
   "name": "python3"
  },
  "language_info": {
   "codemirror_mode": {
    "name": "ipython",
    "version": 3
   },
   "file_extension": ".py",
   "mimetype": "text/x-python",
   "name": "python",
   "nbconvert_exporter": "python",
   "pygments_lexer": "ipython3",
   "version": "3.7.1"
  }
 },
 "nbformat": 4,
 "nbformat_minor": 2
}
